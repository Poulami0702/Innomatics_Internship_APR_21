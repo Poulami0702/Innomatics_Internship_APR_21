{
  "nbformat": 4,
  "nbformat_minor": 0,
  "metadata": {
    "colab": {
      "name": "task6 Python Programming.ipynb",
      "provenance": [],
      "collapsed_sections": []
    },
    "kernelspec": {
      "name": "python3",
      "display_name": "Python 3"
    },
    "language_info": {
      "name": "python"
    }
  },
  "cells": [
    {
      "cell_type": "code",
      "metadata": {
        "id": "nEQQ9E7b8FSZ",
        "colab": {
          "base_uri": "https://localhost:8080/"
        },
        "outputId": "d208fe6e-e3b6-4633-e15d-5f588c4cae3c"
      },
      "source": [
        "# question 1 (array)\n",
        "\n",
        "import numpy\n",
        "def arrays(arr):\n",
        "    return numpy.array(arr,float)[::-1]\n",
        "    \n",
        "arr = input().strip().split(' ')\n",
        "result = arrays(arr)\n",
        "print(result)\n"
      ],
      "execution_count": 2,
      "outputs": [
        {
          "output_type": "stream",
          "text": [
            "1 2 3 4 -8 -10\n",
            "[-10.  -8.   4.   3.   2.   1.]\n"
          ],
          "name": "stdout"
        }
      ]
    },
    {
      "cell_type": "code",
      "metadata": {
        "colab": {
          "base_uri": "https://localhost:8080/"
        },
        "id": "7k7eHjUVHK0b",
        "outputId": "87911951-ebaf-457f-822c-f7b256275fb8"
      },
      "source": [
        "# question 2 ( shape and reshape)\n",
        "\n",
        "import numpy\n",
        "l=input().split()\n",
        "a=numpy.array(l,dtype=int).reshape(3,3)\n",
        "print(a)\n",
        "\n"
      ],
      "execution_count": 3,
      "outputs": [
        {
          "output_type": "stream",
          "text": [
            "1 2 3 4 5 6 7 8 9\n",
            "[[1 2 3]\n",
            " [4 5 6]\n",
            " [7 8 9]]\n"
          ],
          "name": "stdout"
        }
      ]
    },
    {
      "cell_type": "code",
      "metadata": {
        "id": "MFIJLzO3HhIu"
      },
      "source": [
        ""
      ],
      "execution_count": null,
      "outputs": []
    },
    {
      "cell_type": "code",
      "metadata": {
        "colab": {
          "base_uri": "https://localhost:8080/"
        },
        "id": "w6Vv47NI8IKz",
        "outputId": "86acebaf-0ce8-4636-e937-1e9c094ca96c"
      },
      "source": [
        "# question 3 (transpose and flatten)\n",
        "\n",
        "import numpy\n",
        "our_array = numpy.array([input().split() for y in range(int(input().split()[0]))], int)\n",
        "print(numpy.transpose(our_array), our_array.flatten(), sep=\"\\n\")\n"
      ],
      "execution_count": 4,
      "outputs": [
        {
          "output_type": "stream",
          "text": [
            "2 2 \n",
            "1 2\n",
            "3 4\n",
            "[[1 3]\n",
            " [2 4]]\n",
            "[1 2 3 4]\n"
          ],
          "name": "stdout"
        }
      ]
    },
    {
      "cell_type": "code",
      "metadata": {
        "colab": {
          "base_uri": "https://localhost:8080/"
        },
        "id": "xPtHJK9w84NW",
        "outputId": "813de3ac-9975-4442-9910-116f8ca49f74"
      },
      "source": [
        "# question 4 (concatenate)\n",
        "\n",
        "import numpy as np\n",
        "a, b, c = map(int,input().split())\n",
        "arrA = np.array([input().split() for _ in range(a)],int)\n",
        "arrB = np.array([input().split() for _ in range(b)],int)\n",
        "print(np.concatenate((arrA, arrB), axis = 0))\n"
      ],
      "execution_count": 5,
      "outputs": [
        {
          "output_type": "stream",
          "text": [
            "4 3 2\n",
            "1 2\n",
            "1 2\n",
            "1 2\n",
            "1 2\n",
            "3 4\n",
            "3 4\n",
            "3 4\n",
            "[[1 2]\n",
            " [1 2]\n",
            " [1 2]\n",
            " [1 2]\n",
            " [3 4]\n",
            " [3 4]\n",
            " [3 4]]\n"
          ],
          "name": "stdout"
        }
      ]
    },
    {
      "cell_type": "code",
      "metadata": {
        "colab": {
          "base_uri": "https://localhost:8080/"
        },
        "id": "sUNS35X39R_8",
        "outputId": "87de6cae-df83-4c61-bb13-bfd9c70e44d6"
      },
      "source": [
        " # question 5 (zeroes and one)\n",
        " \n",
        " import numpy\n",
        "a=list(map(int,input().split()))\n",
        "z=numpy.zeros(a,dtype=numpy.int)\n",
        "o=numpy.ones(a,dtype=numpy.int)\n",
        "print(z)\n",
        "print(o)\n"
      ],
      "execution_count": 6,
      "outputs": [
        {
          "output_type": "stream",
          "text": [
            "3 3 3\n",
            "[[[0 0 0]\n",
            "  [0 0 0]\n",
            "  [0 0 0]]\n",
            "\n",
            " [[0 0 0]\n",
            "  [0 0 0]\n",
            "  [0 0 0]]\n",
            "\n",
            " [[0 0 0]\n",
            "  [0 0 0]\n",
            "  [0 0 0]]]\n",
            "[[[1 1 1]\n",
            "  [1 1 1]\n",
            "  [1 1 1]]\n",
            "\n",
            " [[1 1 1]\n",
            "  [1 1 1]\n",
            "  [1 1 1]]\n",
            "\n",
            " [[1 1 1]\n",
            "  [1 1 1]\n",
            "  [1 1 1]]]\n"
          ],
          "name": "stdout"
        }
      ]
    },
    {
      "cell_type": "code",
      "metadata": {
        "colab": {
          "base_uri": "https://localhost:8080/"
        },
        "id": "pnnfwhpH9WZu",
        "outputId": "13646105-f3cd-436b-87bf-188f4c196569"
      },
      "source": [
        "# question 6 (eye and identity)\n",
        "\n",
        "import numpy\n",
        "m,n=map(int,input().split())\n",
        "numpy.set_printoptions(sign=\" \")\n",
        "print(numpy.eye(m,n))\n"
      ],
      "execution_count": 7,
      "outputs": [
        {
          "output_type": "stream",
          "text": [
            "3 3\n",
            "[[ 1.  0.  0.]\n",
            " [ 0.  1.  0.]\n",
            " [ 0.  0.  1.]]\n"
          ],
          "name": "stdout"
        }
      ]
    },
    {
      "cell_type": "code",
      "metadata": {
        "colab": {
          "base_uri": "https://localhost:8080/"
        },
        "id": "PDiW9bKD9kQr",
        "outputId": "494fdeee-5d4e-4943-c030-0b47f958510c"
      },
      "source": [
        "# question 7 (array mathematics)\n",
        "\n",
        "import numpy\n",
        "n,m=list(map(int,input().split()))\n",
        "mat1=numpy.array([input().split() for i in range(n)],int)\n",
        "mat2=numpy.array([input().split() for i in range(n)],int)\n",
        "print(mat1+mat2)\n",
        "print(mat1-mat2)\n",
        "print(mat1*mat2)\n",
        "print(mat1//mat2)\n",
        "print(mat1%mat2)\n",
        "print(mat1**mat2)\n"
      ],
      "execution_count": 8,
      "outputs": [
        {
          "output_type": "stream",
          "text": [
            "1 4\n",
            "1 2 3 4\n",
            "5 6 7 8\n",
            "[[ 6  8 10 12]]\n",
            "[[-4 -4 -4 -4]]\n",
            "[[ 5 12 21 32]]\n",
            "[[0 0 0 0]]\n",
            "[[1 2 3 4]]\n",
            "[[    1    64  2187 65536]]\n"
          ],
          "name": "stdout"
        }
      ]
    },
    {
      "cell_type": "code",
      "metadata": {
        "colab": {
          "base_uri": "https://localhost:8080/"
        },
        "id": "mZDL5oWPD0E2",
        "outputId": "13c14b5f-c18d-44cd-f0a8-37e4eaa2d63b"
      },
      "source": [
        "# question 8 (floor, ceil and rint)\n",
        "\n",
        "import numpy\n",
        "numpy.set_printoptions(legacy=\"1.13\")\n",
        "a=list(map(float,input().split()))\n",
        "print(numpy.floor(a))\n",
        "print(numpy.ceil(a))\n",
        "print(numpy.rint(a))\n",
        "\n",
        "\n",
        "\n"
      ],
      "execution_count": 9,
      "outputs": [
        {
          "output_type": "stream",
          "text": [
            "1.1 2.2 3.3 4.4 5.5 6.6 7.7 8.8 9.9\n",
            "[ 1.  2.  3.  4.  5.  6.  7.  8.  9.]\n",
            "[  2.   3.   4.   5.   6.   7.   8.   9.  10.]\n",
            "[  1.   2.   3.   4.   6.   7.   8.   9.  10.]\n"
          ],
          "name": "stdout"
        }
      ]
    },
    {
      "cell_type": "code",
      "metadata": {
        "colab": {
          "base_uri": "https://localhost:8080/"
        },
        "id": "RUVp8mBTLTt_",
        "outputId": "6c2ce1c6-ada8-4ff5-f982-aebb243da1d1"
      },
      "source": [
        "# question 9 (sum and prod)\n",
        "\n",
        "import numpy\n",
        "N, M = map(int, input().split())\n",
        "A = numpy.array([input().split() for _ in range(N)],int)\n",
        "S=numpy.sum(A,axis=0)\n",
        "print(numpy.product(S,axis=0))\n",
        "\n"
      ],
      "execution_count": 10,
      "outputs": [
        {
          "output_type": "stream",
          "text": [
            "2 2\n",
            " 1 2\n",
            "3 4\n",
            "24\n"
          ],
          "name": "stdout"
        }
      ]
    },
    {
      "cell_type": "code",
      "metadata": {
        "colab": {
          "base_uri": "https://localhost:8080/"
        },
        "id": "fXGQvxpDMVkN",
        "outputId": "afde46fb-c20c-496f-f2e6-04dee728cdaf"
      },
      "source": [
        "# question 10 (min and max)\n",
        "\n",
        "import numpy\n",
        "m,n=list(map(int,input().split()))\n",
        "a=numpy.array([input().split() for i in range(m)],int)\n",
        "M=numpy.min(a,axis=1)\n",
        "print(numpy.max(M))\n"
      ],
      "execution_count": 11,
      "outputs": [
        {
          "output_type": "stream",
          "text": [
            "4 2\n",
            "2 5\n",
            "3 7\n",
            "1 3\n",
            "4 0\n",
            "3\n"
          ],
          "name": "stdout"
        }
      ]
    },
    {
      "cell_type": "code",
      "metadata": {
        "colab": {
          "base_uri": "https://localhost:8080/"
        },
        "id": "eRiZYKU8MyHb",
        "outputId": "11df8d78-a86b-4b5c-fdbb-c9ecc8d88218"
      },
      "source": [
        "# question 11 (mean , var and std)\n",
        "\n",
        "import numpy\n",
        "m,n=list(map(int,input().split()))\n",
        "a=numpy.array([input().split() for i in range(m)],int)\n",
        "print(numpy.mean(a,axis=1))\n",
        "print(numpy.var(a,axis=0))\n",
        "print(numpy.around(numpy.std(a),decimals=11))\n"
      ],
      "execution_count": 12,
      "outputs": [
        {
          "output_type": "stream",
          "text": [
            "2 2\n",
            "1 2\n",
            "3 4\n",
            "[ 1.5  3.5]\n",
            "[ 1.  1.]\n",
            "1.11803398875\n"
          ],
          "name": "stdout"
        }
      ]
    },
    {
      "cell_type": "code",
      "metadata": {
        "id": "pPY-m4uoNtps",
        "colab": {
          "base_uri": "https://localhost:8080/"
        },
        "outputId": "a5d4e2dc-3991-4cf9-ce02-e0562d0b5fad"
      },
      "source": [
        "# question 12 (dot and cross)\n",
        "\n",
        "import numpy\n",
        "n=int(input())\n",
        "a=numpy.array([input().split() for i in range(n)],int)\n",
        "b=numpy.array([input().split() for i in range(n)],int)\n",
        "print(numpy.dot(a,b))\n",
        "\n"
      ],
      "execution_count": 13,
      "outputs": [
        {
          "output_type": "stream",
          "text": [
            "2\n",
            "1 2\n",
            "3 4\n",
            "1 2\n",
            "3 4\n",
            "[[ 7 10]\n",
            " [15 22]]\n"
          ],
          "name": "stdout"
        }
      ]
    },
    {
      "cell_type": "code",
      "metadata": {
        "colab": {
          "base_uri": "https://localhost:8080/"
        },
        "id": "s4A3Y9vFOTsA",
        "outputId": "1d9e488b-8dee-48e1-8c52-3fcaf9defd3e"
      },
      "source": [
        "# question 13 (inner and outer)\n",
        "\n",
        "import numpy\n",
        "a=list(map(int,input().split()))\n",
        "b=list(map(int,input().split()))\n",
        "print(numpy.inner(a,b))\n",
        "print(numpy.outer(a,b))\n",
        "\n"
      ],
      "execution_count": 14,
      "outputs": [
        {
          "output_type": "stream",
          "text": [
            "0 1\n",
            "2 3\n",
            "3\n",
            "[[0 0]\n",
            " [2 3]]\n"
          ],
          "name": "stdout"
        }
      ]
    },
    {
      "cell_type": "code",
      "metadata": {
        "colab": {
          "base_uri": "https://localhost:8080/"
        },
        "id": "PAYncdr9PVaJ",
        "outputId": "2860bd3e-f614-4859-e68d-a61681d0d1ee"
      },
      "source": [
        "# question 14 (polynomials)\n",
        "\n",
        "import numpy\n",
        "a = list(map(float, input().split()))\n",
        "#m = input()\n",
        "print(numpy.polyval(a,float(input())))\n"
      ],
      "execution_count": 15,
      "outputs": [
        {
          "output_type": "stream",
          "text": [
            "1.1 2 3\n",
            "0\n",
            "3.0\n"
          ],
          "name": "stdout"
        }
      ]
    },
    {
      "cell_type": "code",
      "metadata": {
        "colab": {
          "base_uri": "https://localhost:8080/"
        },
        "id": "kI_-S1aIPqHX",
        "outputId": "f681ade1-8351-4bf8-afc4-4b02ff3510ae"
      },
      "source": [
        "# question 15 (linear algebra)\n",
        "\n",
        "import numpy\n",
        "print(round(numpy.linalg.det(numpy.array([input().split() for _ in range(int(input()))],float)),2))\n"
      ],
      "execution_count": 16,
      "outputs": [
        {
          "output_type": "stream",
          "text": [
            "2\n",
            "1.1 1.1\n",
            "1.1 1.1\n",
            "0.0\n"
          ],
          "name": "stdout"
        }
      ]
    },
    {
      "cell_type": "code",
      "metadata": {
        "id": "m4n4FyVwP5Oh"
      },
      "source": [
        ""
      ],
      "execution_count": null,
      "outputs": []
    }
  ]
}